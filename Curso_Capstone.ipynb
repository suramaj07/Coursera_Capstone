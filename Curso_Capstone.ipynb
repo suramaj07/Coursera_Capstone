{
  "nbformat": 4,
  "nbformat_minor": 0,
  "metadata": {
    "colab": {
      "name": "Curso Capstone.ipynb",
      "provenance": [],
      "collapsed_sections": []
    },
    "kernelspec": {
      "name": "python3",
      "display_name": "Python 3"
    },
    "language_info": {
      "name": "python"
    }
  },
  "cells": [
    {
      "cell_type": "markdown",
      "source": [
        "**Este Notebook se utilizará para el proyecto final del Certificado Profesional de Ciencia de Datos - Curso Capstone**"
      ],
      "metadata": {
        "id": "k5tYs_zFTTrD"
      }
    },
    {
      "cell_type": "code",
      "execution_count": 1,
      "metadata": {
        "colab": {
          "base_uri": "https://localhost:8080/"
        },
        "id": "aVIOFSgETSVE",
        "outputId": "edf6da7b-2eaa-48c1-afe6-50f982b99f9a"
      },
      "outputs": [
        {
          "output_type": "stream",
          "name": "stdout",
          "text": [
            "Hola, proyecto final de curso\n"
          ]
        }
      ],
      "source": [
        "import pandas as pd \n",
        "import numpy as np\n",
        "\n",
        "print (\"Hola, proyecto final de curso\")\n"
      ]
    }
  ]
}